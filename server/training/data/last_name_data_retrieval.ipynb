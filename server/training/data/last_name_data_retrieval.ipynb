{
 "cells": [
  {
   "cell_type": "code",
   "execution_count": null,
   "metadata": {},
   "outputs": [],
   "source": [
    "# Run locally to sanitize and clean data from the last name data set\n",
    "\n",
    "import pandas as pd\n",
    "\n",
    "# Read the text file and split lines into two columns\n",
    "data = []\n",
    "with open('output_last_names.txt', 'r') as file:\n",
    "    for line in file:\n",
    "        parts = line.split()\n",
    "        if len(parts) == 2:\n",
    "            data.append(parts)\n",
    "\n",
    "# Create a DataFrame\n",
    "df = pd.DataFrame(data, columns=['Count', 'Name'])\n",
    "\n",
    "# Save the DataFrame to a CSV file\n",
    "df.to_csv('output_last_names.csv', index=False)"
   ]
  }
 ],
 "metadata": {
  "language_info": {
   "name": "python"
  }
 },
 "nbformat": 4,
 "nbformat_minor": 2
}
